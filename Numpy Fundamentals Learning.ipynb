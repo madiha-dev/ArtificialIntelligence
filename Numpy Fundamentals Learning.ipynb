{
 "cells": [
  {
   "cell_type": "code",
   "execution_count": 1,
   "metadata": {},
   "outputs": [],
   "source": [
    "import numpy as np"
   ]
  },
  {
   "cell_type": "code",
   "execution_count": 3,
   "metadata": {},
   "outputs": [
    {
     "name": "stdout",
     "output_type": "stream",
     "text": [
      "Wall time: 0 ns\n"
     ]
    },
    {
     "data": {
      "text/plain": [
       "(8,)"
      ]
     },
     "execution_count": 3,
     "metadata": {},
     "output_type": "execute_result"
    }
   ],
   "source": [
    "#python array\n",
    "parr =  [1,2,3,4,5,6,7,8]\n",
    "\n",
    "\n",
    "#numpy array\n",
    "narr = np.array([1,2,3,4,5,6,7,8])\n",
    "%time narr.shape"
   ]
  },
  {
   "cell_type": "code",
   "execution_count": 4,
   "metadata": {},
   "outputs": [],
   "source": [
    "#np.Where"
   ]
  },
  {
   "cell_type": "code",
   "execution_count": 5,
   "metadata": {},
   "outputs": [],
   "source": [
    "salary = np.array([0, -1, 1000, 3000, 5000])"
   ]
  },
  {
   "cell_type": "code",
   "execution_count": 6,
   "metadata": {},
   "outputs": [
    {
     "data": {
      "text/plain": [
       "array([   0,    0, 1000, 3000, 5000])"
      ]
     },
     "execution_count": 6,
     "metadata": {},
     "output_type": "execute_result"
    }
   ],
   "source": [
    "np.where(salary <= 0 , 0 , salary)"
   ]
  },
  {
   "cell_type": "code",
   "execution_count": 7,
   "metadata": {},
   "outputs": [],
   "source": [
    "x = np.array([10, 9, 5, 7, 8, 12, 8, 10])"
   ]
  },
  {
   "cell_type": "code",
   "execution_count": 8,
   "metadata": {},
   "outputs": [
    {
     "data": {
      "text/plain": [
       "8.625"
      ]
     },
     "execution_count": 8,
     "metadata": {},
     "output_type": "execute_result"
    }
   ],
   "source": [
    "x.mean()"
   ]
  },
  {
   "cell_type": "code",
   "execution_count": 9,
   "metadata": {},
   "outputs": [
    {
     "data": {
      "text/plain": [
       "array([10, 19, 24, 31, 39, 51, 59, 69], dtype=int32)"
      ]
     },
     "execution_count": 9,
     "metadata": {},
     "output_type": "execute_result"
    }
   ],
   "source": [
    "x.cumsum()"
   ]
  },
  {
   "cell_type": "code",
   "execution_count": 10,
   "metadata": {},
   "outputs": [
    {
     "data": {
      "text/plain": [
       "array([      10,       90,      450,     3150,    25200,   302400,\n",
       "        2419200, 24192000], dtype=int32)"
      ]
     },
     "execution_count": 10,
     "metadata": {},
     "output_type": "execute_result"
    }
   ],
   "source": [
    "x.cumprod()"
   ]
  },
  {
   "cell_type": "code",
   "execution_count": 11,
   "metadata": {},
   "outputs": [
    {
     "data": {
      "text/plain": [
       "array([False, False, False, False, False,  True, False, False])"
      ]
     },
     "execution_count": 11,
     "metadata": {},
     "output_type": "execute_result"
    }
   ],
   "source": [
    "y = x > 10\n",
    "y"
   ]
  },
  {
   "cell_type": "code",
   "execution_count": 12,
   "metadata": {},
   "outputs": [
    {
     "data": {
      "text/plain": [
       "1"
      ]
     },
     "execution_count": 12,
     "metadata": {},
     "output_type": "execute_result"
    }
   ],
   "source": [
    "y.sum()"
   ]
  },
  {
   "cell_type": "code",
   "execution_count": 13,
   "metadata": {},
   "outputs": [
    {
     "data": {
      "text/plain": [
       "True"
      ]
     },
     "execution_count": 13,
     "metadata": {},
     "output_type": "execute_result"
    }
   ],
   "source": [
    "y.any()"
   ]
  },
  {
   "cell_type": "code",
   "execution_count": 14,
   "metadata": {},
   "outputs": [
    {
     "data": {
      "text/plain": [
       "False"
      ]
     },
     "execution_count": 14,
     "metadata": {},
     "output_type": "execute_result"
    }
   ],
   "source": [
    "y.all()"
   ]
  },
  {
   "cell_type": "code",
   "execution_count": 15,
   "metadata": {},
   "outputs": [
    {
     "data": {
      "text/plain": [
       "array([ 5,  7,  8,  8,  9, 10, 10, 12])"
      ]
     },
     "execution_count": 15,
     "metadata": {},
     "output_type": "execute_result"
    }
   ],
   "source": [
    "x.sort()\n",
    "x"
   ]
  },
  {
   "cell_type": "code",
   "execution_count": 16,
   "metadata": {},
   "outputs": [
    {
     "data": {
      "text/plain": [
       "array([ 5,  7,  8,  8,  9, 10, 10, 12])"
      ]
     },
     "execution_count": 16,
     "metadata": {},
     "output_type": "execute_result"
    }
   ],
   "source": [
    "np.unique(x)\n",
    "x"
   ]
  },
  {
   "cell_type": "code",
   "execution_count": 17,
   "metadata": {},
   "outputs": [
    {
     "data": {
      "text/plain": [
       "array([2, 1, 0, 1, 1, 0, 2])"
      ]
     },
     "execution_count": 17,
     "metadata": {},
     "output_type": "execute_result"
    }
   ],
   "source": [
    "np.diff(x)"
   ]
  },
  {
   "cell_type": "code",
   "execution_count": 9,
   "metadata": {
    "scrolled": true
   },
   "outputs": [
    {
     "name": "stdout",
     "output_type": "stream",
     "text": [
      "[[0.54967377 0.67371736 0.27988149 0.70165793 0.35345102]\n",
      " [0.19757714 0.95508244 0.08600552 0.68300338 0.42312083]\n",
      " [0.38740471 0.57239702 0.83251642 0.45984518 0.26155346]\n",
      " [0.99743648 0.48623111 0.28094612 0.30829314 0.51230514]]\n",
      "\n",
      "reshape (by default it will save in row major(C) order) : \n",
      " [[[0.54967377 0.67371736 0.27988149 0.70165793 0.35345102]\n",
      "  [0.19757714 0.95508244 0.08600552 0.68300338 0.42312083]]\n",
      "\n",
      " [[0.38740471 0.57239702 0.83251642 0.45984518 0.26155346]\n",
      "  [0.99743648 0.48623111 0.28094612 0.30829314 0.51230514]]]\n"
     ]
    }
   ],
   "source": [
    "x = np.random.rand(4,5)\n",
    "print (x)\n",
    "print(\"\\nreshape (by default it will save in row major(C) order) : \\n\", x.reshape(2,2,5))"
   ]
  },
  {
   "cell_type": "code",
   "execution_count": 16,
   "metadata": {},
   "outputs": [
    {
     "name": "stdout",
     "output_type": "stream",
     "text": [
      "reshape in column major(F) order : \n",
      " [[[0.54967377 0.67371736 0.27988149 0.70165793 0.35345102]\n",
      "  [0.38740471 0.57239702 0.83251642 0.45984518 0.26155346]]\n",
      "\n",
      " [[0.19757714 0.95508244 0.08600552 0.68300338 0.42312083]\n",
      "  [0.99743648 0.48623111 0.28094612 0.30829314 0.51230514]]]\n"
     ]
    }
   ],
   "source": [
    "print(\"reshape in column major(F) order : \\n\", x.reshape((2,2,5), order='F'))"
   ]
  },
  {
   "cell_type": "code",
   "execution_count": 17,
   "metadata": {},
   "outputs": [
    {
     "name": "stdout",
     "output_type": "stream",
     "text": [
      "reshape skip 1 dimension : \n",
      " [[[0.54967377 0.67371736 0.27988149 0.70165793 0.35345102]\n",
      "  [0.19757714 0.95508244 0.08600552 0.68300338 0.42312083]]\n",
      "\n",
      " [[0.38740471 0.57239702 0.83251642 0.45984518 0.26155346]\n",
      "  [0.99743648 0.48623111 0.28094612 0.30829314 0.51230514]]]\n"
     ]
    }
   ],
   "source": [
    "print(\"reshape skip 1 dimension : \\n\", x.reshape(2,2,-1))"
   ]
  },
  {
   "cell_type": "code",
   "execution_count": 18,
   "metadata": {},
   "outputs": [
    {
     "data": {
      "text/plain": [
       "array([[0.54967377, 0.67371736, 0.27988149, 0.70165793, 0.35345102],\n",
       "       [0.19757714, 0.95508244, 0.08600552, 0.68300338, 0.42312083],\n",
       "       [0.38740471, 0.57239702, 0.83251642, 0.45984518, 0.26155346],\n",
       "       [0.99743648, 0.48623111, 0.28094612, 0.30829314, 0.51230514]])"
      ]
     },
     "execution_count": 18,
     "metadata": {},
     "output_type": "execute_result"
    }
   ],
   "source": [
    "x"
   ]
  },
  {
   "cell_type": "code",
   "execution_count": 20,
   "metadata": {},
   "outputs": [
    {
     "name": "stdout",
     "output_type": "stream",
     "text": [
      " Flat they array means 1 dimension array \n",
      " [0.54967377 0.67371736 0.27988149 0.70165793 0.35345102 0.19757714\n",
      " 0.95508244 0.08600552 0.68300338 0.42312083 0.38740471 0.57239702\n",
      " 0.83251642 0.45984518 0.26155346 0.99743648 0.48623111 0.28094612\n",
      " 0.30829314 0.51230514]\n"
     ]
    }
   ],
   "source": [
    "print(\" Flat they array means 1 dimension array \\n\", x.ravel())"
   ]
  },
  {
   "cell_type": "code",
   "execution_count": 22,
   "metadata": {},
   "outputs": [
    {
     "name": "stdout",
     "output_type": "stream",
     "text": [
      " Flat?Ravel they array means 1 dimension array \n",
      " [0.54967377 0.67371736 0.27988149 0.70165793 0.35345102 0.19757714\n",
      " 0.95508244 0.08600552 0.68300338 0.42312083 0.38740471 0.57239702\n",
      " 0.83251642 0.45984518 0.26155346 0.99743648 0.48623111 0.28094612\n",
      " 0.30829314 0.51230514]\n"
     ]
    }
   ],
   "source": [
    " print(\" Flat?Ravel they array means 1 dimension array \\n\", x.flatten())"
   ]
  },
  {
   "cell_type": "code",
   "execution_count": 34,
   "metadata": {},
   "outputs": [
    {
     "name": "stdout",
     "output_type": "stream",
     "text": [
      "concatenate both arrays orow wise:\n",
      " [[ 1  3  5]\n",
      " [ 7  9  0]\n",
      " [11 13 15]\n",
      " [17 19 10]]\n"
     ]
    }
   ],
   "source": [
    "#Concatenate \n",
    "\n",
    "x = [[1,3,5],[7,9,0]]\n",
    "arr1 = np.array(x)\n",
    "\n",
    "y = [[11,13,15],[17,19,10]]\n",
    "arr2 = np.array(y)\n",
    "\n",
    "print (\"concatenate both arrays row wise:\\n\", np.concatenate((arr1, arr2), axis=0))"
   ]
  },
  {
   "cell_type": "code",
   "execution_count": 35,
   "metadata": {},
   "outputs": [
    {
     "name": "stdout",
     "output_type": "stream",
     "text": [
      "concatenate both arrays column wise:\n",
      " [[ 1  3  5 11 13 15]\n",
      " [ 7  9  0 17 19 10]]\n"
     ]
    }
   ],
   "source": [
    "print (\"concatenate both arrays column wise:\\n\", np.concatenate((arr1, arr2), axis=1))"
   ]
  },
  {
   "cell_type": "code",
   "execution_count": 41,
   "metadata": {},
   "outputs": [
    {
     "name": "stdout",
     "output_type": "stream",
     "text": [
      "concatenate using vstach:\n",
      " [[ 1  3  5]\n",
      " [ 7  9  0]\n",
      " [11 13 15]\n",
      " [17 19 10]]\n"
     ]
    }
   ],
   "source": [
    "#hstack, vstack\n",
    "\n",
    "print (\"concatenate using vstach:\\n\", np.vstack((arr1, arr2)))\n"
   ]
  },
  {
   "cell_type": "code",
   "execution_count": 42,
   "metadata": {},
   "outputs": [
    {
     "name": "stdout",
     "output_type": "stream",
     "text": [
      "concatenate using hstach:\n",
      " [[ 1  3  5 11 13 15]\n",
      " [ 7  9  0 17 19 10]]\n"
     ]
    }
   ],
   "source": [
    "print (\"concatenate using hstach:\\n\", np.hstack((arr1, arr2)))"
   ]
  },
  {
   "cell_type": "code",
   "execution_count": 44,
   "metadata": {},
   "outputs": [
    {
     "name": "stdout",
     "output_type": "stream",
     "text": [
      "split the array at which positions\n",
      " [array([1, 4]), array([5, 6, 7, 9]), array([1, 4])]\n"
     ]
    }
   ],
   "source": [
    "#Split\n",
    "\n",
    "x = [1,4,5,6,7,9,1,4]\n",
    "arr = np.array(x)\n",
    "\n",
    "print(\"split 1-dimensional array at which positions\\n\", np.split(arr, [2,6]))"
   ]
  },
  {
   "cell_type": "code",
   "execution_count": 49,
   "metadata": {
    "scrolled": true
   },
   "outputs": [
    {
     "name": "stdout",
     "output_type": "stream",
     "text": [
      "split 2-dimensional array column wise at which positions\n",
      " [array([[ 1,  4],\n",
      "       [11, 14]]), array([[ 5,  6,  7,  9],\n",
      "       [15, 16, 17, 19]]), array([[ 1,  4],\n",
      "       [11, 14]])]\n"
     ]
    }
   ],
   "source": [
    "x = [[1,4,5,6,7,9,1,4],[11,14,15,16,17,19,11,14]]\n",
    "arr = np.array(x)\n",
    "\n",
    "print(\"split 2-dimensional array column wise at which positions\\n\", np.split(arr, [2,6], axis=1))"
   ]
  },
  {
   "cell_type": "code",
   "execution_count": 59,
   "metadata": {},
   "outputs": [
    {
     "name": "stdout",
     "output_type": "stream",
     "text": [
      "split 2-dimensional array row wise at which positions\n",
      " [array([[1, 4, 5, 6, 7, 9, 1, 4]]), array([[11, 14, 15, 16, 17, 19, 11, 14]])]\n"
     ]
    }
   ],
   "source": [
    "print(\"split 2-dimensional array row wise at which positions\\n\", np.split(arr, [1], axis=0))"
   ]
  },
  {
   "cell_type": "code",
   "execution_count": 60,
   "metadata": {},
   "outputs": [],
   "source": [
    "#hsplit, vsplit\n",
    "#dstack depth stack"
   ]
  },
  {
   "cell_type": "code",
   "execution_count": 62,
   "metadata": {
    "scrolled": true
   },
   "outputs": [
    {
     "name": "stdout",
     "output_type": "stream",
     "text": [
      "repeat func repeat element wise repeatation as per given numer, here tile repeate the whole array\n",
      "\n"
     ]
    }
   ],
   "source": [
    "#Tile & Repeat\n",
    "\n",
    "print(\"repeat func repeat element wise repeatation as per given numer, here tile repeate the whole array\\n\")"
   ]
  },
  {
   "cell_type": "code",
   "execution_count": 66,
   "metadata": {},
   "outputs": [
    {
     "name": "stdout",
     "output_type": "stream",
     "text": [
      "repeat 4 times/n [1 1 1 1 4 4 4 4 2 2 2 2 5 5 5 5 7 7 7 7]\n",
      "/nrepeat 4 times/n [1 4 2 5 7 1 4 2 5 7 1 4 2 5 7 1 4 2 5 7]\n"
     ]
    }
   ],
   "source": [
    "arr = np.array([1,4,2,5,7])\n",
    "\n",
    "print(\"repeat 4 times/n\" , np.repeat(arr, 4))\n",
    "\n",
    "print(\"/nrepeat 4 times/n\" , np.tile(arr, 4))"
   ]
  },
  {
   "cell_type": "code",
   "execution_count": null,
   "metadata": {},
   "outputs": [],
   "source": [
    "#broadcasting"
   ]
  },
  {
   "cell_type": "code",
   "execution_count": null,
   "metadata": {},
   "outputs": [],
   "source": []
  }
 ],
 "metadata": {
  "kernelspec": {
   "display_name": "Python 3",
   "language": "python",
   "name": "python3"
  },
  "language_info": {
   "codemirror_mode": {
    "name": "ipython",
    "version": 3
   },
   "file_extension": ".py",
   "mimetype": "text/x-python",
   "name": "python",
   "nbconvert_exporter": "python",
   "pygments_lexer": "ipython3",
   "version": "3.8.3"
  }
 },
 "nbformat": 4,
 "nbformat_minor": 4
}
